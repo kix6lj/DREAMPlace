{
 "cells": [
  {
   "cell_type": "code",
   "execution_count": 53,
   "id": "74cd33ca",
   "metadata": {},
   "outputs": [],
   "source": [
    "from routenet import RouteNet\n",
    "import os\n",
    "from torch.utils.data import Dataset\n",
    "import numpy as np\n",
    "import torch"
   ]
  },
  {
   "cell_type": "code",
   "execution_count": 6,
   "id": "7c9834f7",
   "metadata": {
    "scrolled": true
   },
   "outputs": [],
   "source": [
    "model = RouteNet(3, 1)\n",
    "pretrained_path = 'work_dir/routenet/model_iters_10000.pth'\n",
    "model.init_weights(pretrained_path)"
   ]
  },
  {
   "cell_type": "code",
   "execution_count": 12,
   "id": "9454ad97",
   "metadata": {},
   "outputs": [],
   "source": [
    "contest_benchmark_dir = '/home/kix6/eda-proj/contest_benchmark/training_set/congestion'\n",
    "circuitnet_benchmark_dir = '/home/kix6/eda-proj/congestion_traininig_set/congestion'"
   ]
  },
  {
   "cell_type": "code",
   "execution_count": 15,
   "id": "bc924a44",
   "metadata": {},
   "outputs": [],
   "source": [
    "contest_benchmarks = os.listdir(os.path.join(contest_benchmark_dir, 'feature'))"
   ]
  },
  {
   "cell_type": "code",
   "execution_count": 54,
   "id": "18eb491c",
   "metadata": {},
   "outputs": [],
   "source": [
    "class DataLoader(Dataset):\n",
    "    def __init__(self, features, labels):\n",
    "        super().__init__()\n",
    "        self.features = features\n",
    "        self.labels = labels\n",
    "        \n",
    "    def __len__(self):\n",
    "        return len(self.label)\n",
    "    \n",
    "    def __getitem__(self, idx):\n",
    "        feature, label = np.load(self.features[idx]), np.load(self.labels[idx])\n",
    "        return torch.from_numpy(feature), torch.from_numpy(label)\n",
    "features = [os.path.join(contest_benchmark_dir, 'feature', files) for files in contest_benchmarks]\n",
    "labels = [os.path.join(contest_benchmark_dir, 'label', files) for files in contest_benchmarks]\n",
    "contest_dataloader = DataLoader(features, labels)"
   ]
  },
  {
   "cell_type": "code",
   "execution_count": 57,
   "id": "9701aadc",
   "metadata": {},
   "outputs": [
    {
     "ename": "AttributeError",
     "evalue": "'Tensor' object has no attribute 'as_numpy'",
     "output_type": "error",
     "traceback": [
      "\u001b[0;31m---------------------------------------------------------------------------\u001b[0m",
      "\u001b[0;31mAttributeError\u001b[0m                            Traceback (most recent call last)",
      "Cell \u001b[0;32mIn[57], line 2\u001b[0m\n\u001b[1;32m      1\u001b[0m f, l \u001b[38;5;241m=\u001b[39m contest_dataloader[\u001b[38;5;241m0\u001b[39m]\n\u001b[0;32m----> 2\u001b[0m \u001b[43ml\u001b[49m\u001b[38;5;241;43m.\u001b[39;49m\u001b[43mas_numpy\u001b[49m()\n",
      "\u001b[0;31mAttributeError\u001b[0m: 'Tensor' object has no attribute 'as_numpy'"
     ]
    }
   ],
   "source": [
    "f, l = contest_dataloader[0]"
   ]
  }
 ],
 "metadata": {
  "kernelspec": {
   "display_name": "Python 3 (ipykernel)",
   "language": "python",
   "name": "python3"
  },
  "language_info": {
   "codemirror_mode": {
    "name": "ipython",
    "version": 3
   },
   "file_extension": ".py",
   "mimetype": "text/x-python",
   "name": "python",
   "nbconvert_exporter": "python",
   "pygments_lexer": "ipython3",
   "version": "3.8.10"
  }
 },
 "nbformat": 4,
 "nbformat_minor": 5
}
