{
 "cells": [
  {
   "cell_type": "code",
   "execution_count": 1,
   "id": "74cd33ca",
   "metadata": {},
   "outputs": [
    {
     "name": "stderr",
     "output_type": "stream",
     "text": [
      "/home/kix6/.local/lib/python3.8/site-packages/tqdm/auto.py:22: TqdmWarning: IProgress not found. Please update jupyter and ipywidgets. See https://ipywidgets.readthedocs.io/en/stable/user_install.html\n",
      "  from .autonotebook import tqdm as notebook_tqdm\n"
     ]
    }
   ],
   "source": [
    "from routenet import RouteNet\n",
    "import os\n",
    "from torch.utils.data import Dataset\n",
    "import numpy as np\n",
    "import torch\n",
    "import matplotlib.pyplot as plt\n",
    "from utils import MSELoss"
   ]
  },
  {
   "cell_type": "code",
   "execution_count": 2,
   "id": "1449a41c",
   "metadata": {
    "scrolled": true
   },
   "outputs": [],
   "source": [
    "model = RouteNet(3, 1)\n",
    "pretrained_path = 'work_dir/routenet/model_iters_20000.pth'\n",
    "model.init_weights(pretrained_path)"
   ]
  },
  {
   "cell_type": "code",
   "execution_count": 3,
   "id": "3231d5ed",
   "metadata": {},
   "outputs": [],
   "source": [
    "contest_benchmark_dir = '/home/kix6/eda-proj/contest_benchmark/training_set/congestion'\n",
    "circuitnet_benchmark_dir = '/home/kix6/eda-proj/congestion_training_set/congestion'"
   ]
  },
  {
   "cell_type": "code",
   "execution_count": 4,
   "id": "182e74c3",
   "metadata": {},
   "outputs": [],
   "source": [
    "contest_benchmarks = os.listdir(os.path.join(contest_benchmark_dir, 'feature'))\n",
    "circuitnet_benchmarks = []\n",
    "ann_file = '/home/kix6/eda-proj/CircuitNet/files/test.csv'\n",
    "with open(ann_file, 'r') as f:\n",
    "    for line in f:\n",
    "        feature, label = line.split(',')\n",
    "        circuitnet_benchmarks.append(feature.split('/')[-1])"
   ]
  },
  {
   "cell_type": "code",
   "execution_count": 5,
   "id": "e1163a08",
   "metadata": {},
   "outputs": [],
   "source": [
    "class DataLoader(Dataset):\n",
    "    def __init__(self, features, labels):\n",
    "        super().__init__()\n",
    "        self.features = features\n",
    "        self.labels = labels\n",
    "        \n",
    "    def __len__(self):\n",
    "        return len(self.label)\n",
    "    \n",
    "    def __getitem__(self, idx):\n",
    "        feature = np.load(self.features[idx]).transpose(2, 0, 1).astype(np.float32)\n",
    "        label = np.load(self.labels[idx]).transpose(2, 0, 1).astype(np.float32)\n",
    "        return torch.from_numpy(feature), torch.from_numpy(label)\n",
    "    \n",
    "features = [os.path.join(contest_benchmark_dir, 'feature', files) for files in contest_benchmarks]\n",
    "labels = [os.path.join(contest_benchmark_dir, 'label', files) for files in contest_benchmarks]\n",
    "contest_dataloader = DataLoader(features, labels)\n",
    "\n",
    "circuitnet_f = [os.path.join(circuitnet_benchmark_dir, 'feature', files) for files in circuitnet_benchmarks]\n",
    "circuitnet_l = [os.path.join(circuitnet_benchmark_dir, 'label', files) for files in circuitnet_benchmarks]\n",
    "circuitnet_dataloader = DataLoader(circuitnet_f, circuitnet_l)"
   ]
  },
  {
   "cell_type": "code",
   "execution_count": 33,
   "id": "e2415642",
   "metadata": {},
   "outputs": [
    {
     "name": "stdout",
     "output_type": "stream",
     "text": [
      "[[0.08418705 0.08418705 0.08418705 ... 0.08418705 0.08418705 0.08418705]\n",
      " [0.08418705 0.08418705 0.08418705 ... 0.08418705 0.08418705 0.08418705]\n",
      " [0.08418705 0.08418705 0.08418705 ... 0.08418705 0.08418705 0.08418705]\n",
      " ...\n",
      " [0.08418705 0.08418012 0.08403879 ... 0.08418991 0.08418719 0.08418705]\n",
      " [0.08418705 0.08418673 0.08418006 ... 0.08418719 0.08418706 0.08418705]\n",
      " [0.08418705 0.08418705 0.08418705 ... 0.08418705 0.08418705 0.08418705]]\n",
      "[[3.8949799e-02 3.9318781e-02 3.9212473e-02 ... 2.8339002e-02\n",
      "  0.0000000e+00 1.0000000e+00]\n",
      " [2.2242649e-02 2.1757422e-02 2.1843502e-02 ... 2.0648850e-02\n",
      "  2.1135598e-02 1.5846224e-04]\n",
      " [2.2706861e-02 2.2449650e-02 2.2535138e-02 ... 2.0878581e-02\n",
      "  2.0547375e-02 2.7939366e-02]\n",
      " ...\n",
      " [2.0950664e-02 2.0885682e-02 2.0880731e-02 ... 2.1073308e-02\n",
      "  2.0863237e-02 2.1254271e-02]\n",
      " [2.0538438e-02 2.0446725e-02 2.0432925e-02 ... 2.0743059e-02\n",
      "  2.1211283e-02 1.1267652e-02]\n",
      " [3.2814823e-02 3.3057578e-02 3.3039194e-02 ... 2.3567891e-02\n",
      "  1.3648130e-02 3.5330936e-01]]\n",
      "loss is 0.230989\n"
     ]
    },
    {
     "data": {
      "image/png": "[encoded data removed]",
      "text/plain": [
       "<Figure size 640x480 with 3 Axes>"
      ]
     },
     "metadata": {},
     "output_type": "display_data"
    }
   ],
   "source": [
    "af, l = contest_dataloader[8]\n",
    "img = l.squeeze(0).numpy()\n",
    "fig, ax = plt.subplots(1, 3)\n",
    "f = af.numpy()\n",
    "f = np.asarray([(f[0,]-f[0,].min())/(f[0,].max()-f[0,].min()), (f[1,]-f[1,].min())/(f[1,].max()-f[1,].min()), (f[2,]-f[2,].min())/(f[2,].max()-f[2,].min())])\n",
    "f = f.transpose(1, 2, 0)\n",
    "ax[0].imshow(img_f)\n",
    "ax[1].imshow(img, cmap='gray', vmin=0, vmax=1)\n",
    "loss = MSELoss()\n",
    "with torch.no_grad():\n",
    "    pred = model(af[None, :]).squeeze(0)\n",
    "    pred_img = pred.squeeze().numpy()\n",
    "    ax[2].imshow(pred_img, cmap='gray', vmin=0, vmax=1)\n",
    "    print('loss is %.6f' % (loss(pred, l)))"
   ]
  }
 ],
 "metadata": {
  "kernelspec": {
   "display_name": "Python 3 (ipykernel)",
   "language": "python",
   "name": "python3"
  },
  "language_info": {
   "codemirror_mode": {
    "name": "ipython",
    "version": 3
   },
   "file_extension": ".py",
   "mimetype": "text/x-python",
   "name": "python",
   "nbconvert_exporter": "python",
   "pygments_lexer": "ipython3",
   "version": "3.8.10"
  }
 },
 "nbformat": 4,
 "nbformat_minor": 5
}
